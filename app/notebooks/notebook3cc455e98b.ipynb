{
 "cells": [
  {
   "cell_type": "code",
   "execution_count": null,
   "id": "fb897738-6db8-4bc6-9544-4b17be4db8ef",
   "metadata": {},
   "outputs": [],
   "source": [
    "#import libraries\n",
    "import numpy as np \n",
    "import pandas as pd \n",
    "import matplotlib.pyplot as plt \n",
    "import seaborn as sns"
   ]
  },
  {
   "cell_type": "code",
   "execution_count": null,
   "id": "ca1b2f18-67e3-4bd8-a60b-9d7c2c454e25",
   "metadata": {
    "tags": []
   },
   "outputs": [],
   "source": [
    "pwd"
   ]
  },
  {
   "cell_type": "code",
   "execution_count": null,
   "id": "30aa5728-c844-498c-9497-a4a980341782",
   "metadata": {
    "tags": []
   },
   "outputs": [],
   "source": [
    "#read dataset\n",
    "df=pd.read_csv(\"./sources/Airline_Delay_Cause.csv\")"
   ]
  },
  {
   "cell_type": "code",
   "execution_count": null,
   "id": "8123916d-ca36-4c83-8a25-469af422c1e0",
   "metadata": {
    "tags": []
   },
   "outputs": [],
   "source": [
    "df"
   ]
  },
  {
   "cell_type": "code",
   "execution_count": null,
   "id": "bbcd1cfa-ba08-41b8-b95f-ebf30987ae91",
   "metadata": {
    "tags": []
   },
   "outputs": [],
   "source": [
    "#show the first five rows from dataset\n",
    "df.head()"
   ]
  },
  {
   "cell_type": "code",
   "execution_count": null,
   "id": "1021ec5e-8989-4836-8fbd-2cb5419ecb15",
   "metadata": {
    "tags": []
   },
   "outputs": [],
   "source": [
    "#discovering if dataset have null value or no\n",
    "df.isnull()"
   ]
  },
  {
   "cell_type": "code",
   "execution_count": null,
   "id": "1d21caab-d5fa-4119-90c2-8a0d558a8d14",
   "metadata": {
    "tags": []
   },
   "outputs": [],
   "source": [
    "#show the null value in dataset\n",
    "df.isnull().sum()"
   ]
  },
  {
   "cell_type": "code",
   "execution_count": null,
   "id": "bb3c0e84-39a6-4189-b83b-e24236edbe98",
   "metadata": {
    "tags": []
   },
   "outputs": [],
   "source": [
    "#Remove null values from dataset\n",
    "df_1=df.dropna(axis=0, how='any', inplace=False)"
   ]
  },
  {
   "cell_type": "code",
   "execution_count": null,
   "id": "e07db1eb-371a-49ab-9935-2a648005a190",
   "metadata": {
    "tags": []
   },
   "outputs": [],
   "source": [
    "df[~df.duplicated()]"
   ]
  },
  {
   "cell_type": "code",
   "execution_count": null,
   "id": "545dde26-6ae3-4bda-b796-b06551b46751",
   "metadata": {
    "tags": []
   },
   "outputs": [],
   "source": [
    "#dataset is cleaned from null values\n",
    "df_1.isnull().sum()"
   ]
  },
  {
   "cell_type": "code",
   "execution_count": null,
   "id": "d1358d1e-0943-4b7f-8540-7168037bb1f2",
   "metadata": {
    "tags": []
   },
   "outputs": [],
   "source": [
    "#discover if dataset has duplicated values or no \n",
    "df_1.duplicated().sum()\n"
   ]
  },
  {
   "cell_type": "code",
   "execution_count": null,
   "id": "24295ed7-ea1f-4113-a21f-a42b00c573d8",
   "metadata": {
    "tags": []
   },
   "outputs": [],
   "source": [
    "df_export = df_1.drop(['carrier_name', 'airport_name'], axis=1)\n",
    "df_export.to_csv('./output/cleaned-flights.csv', index=False)\n",
    "del df_export"
   ]
  },
  {
   "cell_type": "code",
   "execution_count": null,
   "id": "cbd7dc2f-f8cf-411d-b9c9-66ff55ec388e",
   "metadata": {
    "tags": []
   },
   "outputs": [],
   "source": [
    "#print types of data in dataset\n",
    "df_1.dtypes"
   ]
  },
  {
   "cell_type": "code",
   "execution_count": null,
   "id": "3bf8f6b4-c1ae-4e5b-9482-47839d983299",
   "metadata": {
    "tags": []
   },
   "outputs": [],
   "source": [
    "#convert string data in dataset to int \n",
    "from sklearn.preprocessing import LabelEncoder"
   ]
  },
  {
   "cell_type": "code",
   "execution_count": null,
   "id": "99984899-d5a6-44e4-94ac-a04bc12592db",
   "metadata": {
    "tags": []
   },
   "outputs": [],
   "source": [
    "encoder = LabelEncoder()\n",
    "df_1['carrier_name'] = encoder.fit_transform(df_1['carrier_name'])\n",
    "carrier_name = {index : label for index, label in enumerate(encoder.classes_)}\n",
    "carrier_name"
   ]
  },
  {
   "cell_type": "code",
   "execution_count": null,
   "id": "e59dc081-2f8a-4586-8bb6-7e795168ea06",
   "metadata": {
    "tags": []
   },
   "outputs": [],
   "source": [
    "df_1['airport'] = encoder.fit_transform(df_1['airport'])\n",
    "airport = {index : label for index, label in enumerate(encoder.classes_)}\n",
    "airport"
   ]
  },
  {
   "cell_type": "code",
   "execution_count": null,
   "id": "89232d11-3f3d-40f1-8fbb-92938e20e986",
   "metadata": {
    "tags": []
   },
   "outputs": [],
   "source": [
    "df_1['airport_name'] = encoder.fit_transform(df_1['airport_name'])\n",
    "airport_name = {index : label for index, label in enumerate(encoder.classes_)}\n",
    "airport_name"
   ]
  },
  {
   "cell_type": "code",
   "execution_count": null,
   "id": "0809dfb5-c621-43a5-a562-8c2e29b985a7",
   "metadata": {
    "tags": []
   },
   "outputs": [],
   "source": [
    "df_1['carrier'] = encoder.fit_transform(df_1['carrier'])\n",
    "carrier = {index : label for index, label in enumerate(encoder.classes_)}\n",
    "carrier"
   ]
  },
  {
   "cell_type": "code",
   "execution_count": null,
   "id": "c1aed135-6110-42da-975f-231bb8f9ad1b",
   "metadata": {
    "tags": []
   },
   "outputs": [],
   "source": [
    "x = df_1.drop('late_aircraft_delay', axis=1)\n",
    "y = df_1['late_aircraft_delay']"
   ]
  },
  {
   "cell_type": "code",
   "execution_count": null,
   "id": "715f0c2a-11fd-4476-987f-315f2f3614e1",
   "metadata": {
    "tags": []
   },
   "outputs": [],
   "source": [
    "sns.set();\n",
    "df.hist(figsize=(15,15));"
   ]
  },
  {
   "cell_type": "code",
   "execution_count": null,
   "id": "d6297b8d-c5dd-466e-9a54-f7b7bbc210b6",
   "metadata": {
    "tags": []
   },
   "outputs": [],
   "source": [
    "sns.set()\n",
    "plt.figure(figsize=(20,10))\n",
    "sns.barplot(data=df, x = df.year, y = df.late_aircraft_delay)\n",
    "plt.show()"
   ]
  },
  {
   "cell_type": "code",
   "execution_count": null,
   "id": "6ad17a7b-b00a-4135-b8dc-48e33563b498",
   "metadata": {
    "tags": []
   },
   "outputs": [],
   "source": [
    "from sklearn.model_selection import train_test_split\n",
    "x_train,x_test,y_train,y_test=train_test_split(x,y,test_size=20,random_state=44)\n",
    "print(\"x_train shape is:\",x_train.shape)\n",
    "print(\"x_test shape is:\",x_test.shape)\n",
    "print(\"y_train shape is:\",y_train.shape)\n",
    "print(\"y_test shape is:\",y_test.shape)"
   ]
  },
  {
   "cell_type": "code",
   "execution_count": null,
   "id": "78963836-6dfb-496a-8d1e-d1cc6b435d96",
   "metadata": {
    "tags": []
   },
   "outputs": [],
   "source": [
    "from sklearn.ensemble import RandomForestRegressor\n",
    "from sklearn.tree import DecisionTreeRegressor"
   ]
  },
  {
   "cell_type": "code",
   "execution_count": null,
   "id": "4ca85e00-1201-4fac-93dc-216c2742ff55",
   "metadata": {
    "tags": []
   },
   "outputs": [],
   "source": [
    "RandomForestRegressorModel = RandomForestRegressor(n_estimators=100,max_depth=5, random_state=33)\n",
    "RandomForestRegressorModel.fit(x_train, y_train)\n",
    "\n",
    "print('Train Score is : ' , RandomForestRegressorModel.score(x_train, y_train))\n",
    "print('Test Score is : ' , RandomForestRegressorModel.score(x_test, y_test))\n",
    "print('No. of features are : ' , RandomForestRegressorModel.n_features_in_)\n",
    "print('----------------------------------------------------')\n",
    "\n",
    "y_pred = RandomForestRegressorModel.predict(x_test)\n",
    "print('Predicted Value for Random Forest Regressor is : ' , y_pred[:10])"
   ]
  },
  {
   "cell_type": "code",
   "execution_count": null,
   "id": "fe9146db-1cf7-40c4-aea0-cff9d80a0d49",
   "metadata": {
    "tags": []
   },
   "outputs": [],
   "source": [
    "from sklearn.metrics import mean_squared_error\n",
    "MSEValue = mean_squared_error(y_test, y_pred, multioutput='uniform_average') # it can be raw_values\n",
    "print('Mean Squared Error Value is : ', MSEValue)"
   ]
  },
  {
   "cell_type": "code",
   "execution_count": null,
   "id": "033ad3c2-d582-42e8-96cd-f3556cde4b00",
   "metadata": {
    "tags": []
   },
   "outputs": [],
   "source": [
    "from sklearn.metrics import r2_score"
   ]
  },
  {
   "cell_type": "code",
   "execution_count": null,
   "id": "d2ef6ce6-2444-49fc-9b4c-0d846d70e2c8",
   "metadata": {
    "tags": []
   },
   "outputs": [],
   "source": [
    "y_test"
   ]
  },
  {
   "cell_type": "code",
   "execution_count": null,
   "id": "0ac63de0-f430-4ac3-8195-6564bbf6998b",
   "metadata": {
    "tags": []
   },
   "outputs": [],
   "source": [
    "y_pred"
   ]
  },
  {
   "cell_type": "markdown",
   "id": "54fcf398-38eb-4303-9aca-29caf0cf6772",
   "metadata": {},
   "source": [
    "# End"
   ]
  },
  {
   "cell_type": "code",
   "execution_count": null,
   "id": "099486e2-c8b4-40a4-9966-033e7d70d39d",
   "metadata": {
    "tags": []
   },
   "outputs": [],
   "source": [
    "\n"
   ]
  },
  {
   "cell_type": "code",
   "execution_count": null,
   "id": "348b0f70-8c78-4e21-82ad-030b9cea097d",
   "metadata": {
    "tags": []
   },
   "outputs": [],
   "source": [
    "ax = df_1[\"arr_del15\"].value_counts().sort_values().plot(kind=\"barh\", color=[\"r\", \"g\"])\n",
    "totals= []\n",
    "for i in ax.patches:\n",
    "    totals.append(i.get_width())\n",
    "total = sum(totals)\n",
    "for i in ax.patches:\n",
    "     ax.text(i.get_width()+.3, i.get_y()+.20, \n",
    "     str(round((i.get_width()/total)*100, 2))+'%', \n",
    "     fontsize=10, color='black')\n",
    "plt.title(\"arr_del15\", fontsize=20)\n",
    "plt.xlabel(\"Count\", fontsize=14)\n",
    "plt.ylabel(\"Class\", fontsize=14)\n",
    "plt.show()\n",
    "print(df_1[\"arr_del15\"].value_counts())\n",
    "fig = ax.get_figure()\n",
    "fig.savefig(\"./Img/05_01_ArrDel15_Class_Imbalance.png\")"
   ]
  },
  {
   "cell_type": "code",
   "execution_count": null,
   "id": "d31cd133-ff56-46f0-a03e-af5faf3bce03",
   "metadata": {
    "tags": []
   },
   "outputs": [],
   "source": [
    "plt.title(\"ArrDel15\", fontsize=20)\n",
    "plt.xlabel(\"Count\", fontsize=14)\n",
    "plt.ylabel(\"Class\", fontsize=14)\n",
    "plt.show()"
   ]
  },
  {
   "cell_type": "code",
   "execution_count": null,
   "id": "c716cfd6-72d1-4e3f-8cc9-7cee8e08368b",
   "metadata": {
    "tags": []
   },
   "outputs": [],
   "source": []
  },
  {
   "cell_type": "code",
   "execution_count": null,
   "id": "ccebb220-00a1-4efc-ba70-79d13b2d9d68",
   "metadata": {
    "tags": []
   },
   "outputs": [],
   "source": [
    "fig"
   ]
  }
 ],
 "metadata": {
  "kernelspec": {
   "display_name": "Python 3 (ipykernel)",
   "language": "python",
   "name": "python3"
  },
  "language_info": {
   "codemirror_mode": {
    "name": "ipython",
    "version": 3
   },
   "file_extension": ".py",
   "mimetype": "text/x-python",
   "name": "python",
   "nbconvert_exporter": "python",
   "pygments_lexer": "ipython3",
   "version": "3.11.5"
  }
 },
 "nbformat": 4,
 "nbformat_minor": 5
}
